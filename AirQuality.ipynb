{
 "cells": [
  {
   "cell_type": "markdown",
   "metadata": {},
   "source": [
    "# Import Modules and Datasets"
   ]
  },
  {
   "cell_type": "code",
   "execution_count": 2,
   "metadata": {},
   "outputs": [],
   "source": [
    "import pandas\n",
    "import tensorflow as tf\n",
    "import numpy\n",
    "import matplotlib.pyplot as plt"
   ]
  },
  {
   "cell_type": "code",
   "execution_count": 3,
   "metadata": {},
   "outputs": [],
   "source": [
    "path = \"./datasets-main/AirQuality/OpenAQSanFran.csv\"\n",
    "dt = pandas.read_csv(path)\n",
    "dt['monthdate'] = dt['utc'].apply(lambda x: x[5:10])"
   ]
  },
  {
   "cell_type": "code",
   "execution_count": 4,
   "metadata": {},
   "outputs": [],
   "source": [
    "# dt.head()"
   ]
  },
  {
   "cell_type": "markdown",
   "metadata": {},
   "source": [
    "### Predict-obj: Object to predict, default to NO2"
   ]
  },
  {
   "cell_type": "code",
   "execution_count": 5,
   "metadata": {},
   "outputs": [],
   "source": [
    "# Re-run all chunks after this object is changed\n",
    "predict_obj = \"pm25\"\n",
    "\n",
    "cities = dt.location.unique()\n",
    "por = int(len(cities)*0.8)\n",
    "train = cities[:por]\n",
    "test = cities[por:]\n",
    "\n",
    "spec = dt[([x in train for x in dt['location']]) & (dt['parameter'] == predict_obj)]\n",
    "spec2 = dt[([x in test for x in dt['location']]) & (dt['parameter'] == predict_obj)]\n",
    "# plt.plot(spec['value'])\n",
    "# plt.plot(spec2['value'])"
   ]
  },
  {
   "cell_type": "code",
   "execution_count": 6,
   "metadata": {},
   "outputs": [],
   "source": [
    "# xs "
   ]
  },
  {
   "cell_type": "code",
   "execution_count": 7,
   "metadata": {},
   "outputs": [],
   "source": [
    "# spec.iloc[0]['utc'][:]"
   ]
  },
  {
   "cell_type": "code",
   "execution_count": 8,
   "metadata": {},
   "outputs": [
    {
     "name": "stderr",
     "output_type": "stream",
     "text": [
      "/Library/Frameworks/Python.framework/Versions/3.7/lib/python3.7/site-packages/ipykernel_launcher.py:2: SettingWithCopyWarning: \n",
      "A value is trying to be set on a copy of a slice from a DataFrame.\n",
      "Try using .loc[row_indexer,col_indexer] = value instead\n",
      "\n",
      "See the caveats in the documentation: http://pandas.pydata.org/pandas-docs/stable/user_guide/indexing.html#returning-a-view-versus-a-copy\n",
      "  \n",
      "/Library/Frameworks/Python.framework/Versions/3.7/lib/python3.7/site-packages/ipykernel_launcher.py:4: SettingWithCopyWarning: \n",
      "A value is trying to be set on a copy of a slice from a DataFrame.\n",
      "Try using .loc[row_indexer,col_indexer] = value instead\n",
      "\n",
      "See the caveats in the documentation: http://pandas.pydata.org/pandas-docs/stable/user_guide/indexing.html#returning-a-view-versus-a-copy\n",
      "  after removing the cwd from sys.path.\n"
     ]
    }
   ],
   "source": [
    "means = spec.groupby([\"monthdate\", 'location'])['value'].mean()\n",
    "spec['datemean'] = spec.apply(lambda x: means[x['monthdate']][x['location']], axis=1)\n",
    "means2 = spec2.groupby([\"monthdate\", 'location'])['value'].mean()\n",
    "spec2['datemean'] = spec2.apply(lambda x: means2[x['monthdate']][x['location']], axis=1)"
   ]
  },
  {
   "cell_type": "code",
   "execution_count": null,
   "metadata": {
    "scrolled": true
   },
   "outputs": [],
   "source": []
  },
  {
   "cell_type": "markdown",
   "metadata": {},
   "source": [
    "### Create test and train dataset"
   ]
  },
  {
   "cell_type": "code",
   "execution_count": 9,
   "metadata": {
    "scrolled": true
   },
   "outputs": [],
   "source": [
    "lookback = 5\n",
    "\n",
    "xs = pandas.DataFrame(means)\n",
    "tests = pandas.DataFrame(means2)\n",
    "xs['dates'] = xs.index\n",
    "tests['dates'] = tests.index\n",
    "xs = xs[['dates', 'value']]\n",
    "tests = tests[['dates', 'value']]\n",
    "i = 1\n",
    "while i < lookback+1:\n",
    "    xs['value-%s' % i] = xs.shift(periods = i)['value']\n",
    "    i += 1\n",
    "xs = xs.dropna()\n",
    "# xs\n",
    "i = 1\n",
    "while i < lookback+1:\n",
    "    tests['value-%s' % i] = tests.shift(periods = i)['value']\n",
    "    i += 1\n",
    "tests = tests.dropna()"
   ]
  },
  {
   "cell_type": "markdown",
   "metadata": {},
   "source": [
    "### Create Model for mean"
   ]
  },
  {
   "cell_type": "code",
   "execution_count": 10,
   "metadata": {
    "scrolled": false
   },
   "outputs": [],
   "source": [
    "model = tf.keras.Sequential([\n",
    "    tf.keras.layers.Dense(64, activation=\"relu\", input_shape = [lookback]),\n",
    "    tf.keras.layers.Dense(1)\n",
    "])\n",
    "\n",
    "optimizer = tf.keras.optimizers.Adam(lr = 0.01)\n",
    "model.compile(loss=\"mse\", optimizer = optimizer, metrics=['mae', 'mse'])"
   ]
  },
  {
   "cell_type": "code",
   "execution_count": 11,
   "metadata": {},
   "outputs": [],
   "source": [
    "# testx"
   ]
  },
  {
   "cell_type": "markdown",
   "metadata": {},
   "source": [
    "### Split for X and y matrices"
   ]
  },
  {
   "cell_type": "code",
   "execution_count": 12,
   "metadata": {
    "scrolled": true
   },
   "outputs": [],
   "source": [
    "xlabs = xs[[\"value-%s\" % (x+1) for x in range(lookback)]] * 100\n",
    "ylabs = xs['value'] * 100\n",
    "testx = tests[[\"value-%s\" % (x+1) for x in range(lookback)]] * 100\n",
    "testy = tests['value'] * 100"
   ]
  },
  {
   "cell_type": "markdown",
   "metadata": {},
   "source": [
    "### Train model and evaluate"
   ]
  },
  {
   "cell_type": "code",
   "execution_count": 13,
   "metadata": {},
   "outputs": [
    {
     "name": "stdout",
     "output_type": "stream",
     "text": [
      "\n",
      ".............................................................."
     ]
    }
   ],
   "source": [
    "class PrintDot(tf.keras.callbacks.Callback):\n",
    "    def on_epoch_end(self, epoch, logs):\n",
    "        if epoch % 100 == 0: \n",
    "            print(\"\")\n",
    "        print(\".\", end=\"\")\n",
    "\n",
    "EPOCHS = 100        \n",
    "        \n",
    "early_stop=tf.keras.callbacks.EarlyStopping(monitor='val_loss', patience=50)\n",
    "history=model.fit(xlabs, ylabs, epochs=EPOCHS,\n",
    "                 validation_split=0.2, verbose=0, callbacks=[early_stop, PrintDot()])\n",
    "        \n",
    "# history = model.fit(xlabs, ylabs, epochs=EPOCHS, validation_split=0.2, verbose=0, callbacks=[PrintDot()])"
   ]
  },
  {
   "cell_type": "code",
   "execution_count": 14,
   "metadata": {},
   "outputs": [],
   "source": [
    "hist = pandas.DataFrame(history.history)\n",
    "hist['epoch'] = history.epoch\n",
    "# hist.tail()"
   ]
  },
  {
   "cell_type": "code",
   "execution_count": 15,
   "metadata": {},
   "outputs": [
    {
     "name": "stdout",
     "output_type": "stream",
     "text": [
      "5/5 - 0s - loss: 2300402.5000 - mae: 835.1882 - mse: 2300402.5000\n",
      "Testing set mean abs error: 835.19 MPG\n"
     ]
    }
   ],
   "source": [
    "loss, mae, mse = model.evaluate(testx, testy, verbose=2)\n",
    "print(\"Testing set mean abs error: {:5.2f} MPG\".format(mae))"
   ]
  },
  {
   "cell_type": "markdown",
   "metadata": {},
   "source": [
    "### Demo for predicting mean"
   ]
  },
  {
   "cell_type": "code",
   "execution_count": 16,
   "metadata": {},
   "outputs": [],
   "source": [
    "loc = means2.index.unique('location')"
   ]
  },
  {
   "cell_type": "code",
   "execution_count": 17,
   "metadata": {},
   "outputs": [],
   "source": [
    "res = {}\n",
    "for item in loc:\n",
    "    test3 = pandas.DataFrame(means2[:, item])\n",
    "    i = 1\n",
    "    while i < lookback+1:\n",
    "        test3['value-%s' % i] = test3.shift(periods = i)['value']\n",
    "        i += 1\n",
    "    test3 = test3.dropna()\n",
    "    preds = model.predict(test3[[\"value-%s\"%(x+1) for x in range(lookback)]] * 100).T\n",
    "    res[item] = preds\n",
    "# res"
   ]
  },
  {
   "cell_type": "code",
   "execution_count": 18,
   "metadata": {},
   "outputs": [],
   "source": [
    "# preds = model.predict(test3[[\"value-%s\"%(x+1) for x in range(lookback)]] * 100).T"
   ]
  },
  {
   "cell_type": "code",
   "execution_count": 19,
   "metadata": {},
   "outputs": [],
   "source": [
    "# outs = [[preds[0][x], test3.iloc[x]['value']] for x in range(len(test3))]"
   ]
  },
  {
   "cell_type": "code",
   "execution_count": 20,
   "metadata": {},
   "outputs": [
    {
     "data": {
      "image/png": "[encoded data removed]",
      "text/plain": [
       "<Figure size 432x288 with 1 Axes>"
      ]
     },
     "metadata": {
      "needs_background": "light"
     },
     "output_type": "display_data"
    },
    {
     "data": {
      "image/png": "[encoded data removed]",
      "text/plain": [
       "<Figure size 432x288 with 1 Axes>"
      ]
     },
     "metadata": {
      "needs_background": "light"
     },
     "output_type": "display_data"
    }
   ],
   "source": [
    "# plt.plot(preds[0] / 100, label=\"predicted\")\n",
    "# plt.plot(means2[:, \"Livermore - Rincon\"], label='actual')\n",
    "# plt.legend()\n",
    "# plt.xlabel(\"Time\")\n",
    "# plt.ylabel(predict_obj)\n",
    "for item in res:\n",
    "    plt.plot(res[item][0] / 100, label = \"predicted - %s\" % item)\n",
    "    plt.plot(means2[:, item], label = \"actual - %s\" % item)\n",
    "    plt.legend()\n",
    "    plt.xlabel(\"Time\")\n",
    "    plt.ylabel(predict_obj)\n",
    "    plt.show()"
   ]
  },
  {
   "cell_type": "code",
   "execution_count": 21,
   "metadata": {},
   "outputs": [],
   "source": [
    "# Residuals\n",
    "# outs = [(x[1] - x[0]) for x in outs]\n",
    "# plt.plot(outs)"
   ]
  },
  {
   "cell_type": "markdown",
   "metadata": {},
   "source": [
    "# Create Model for hourly rates"
   ]
  },
  {
   "cell_type": "code",
   "execution_count": 22,
   "metadata": {},
   "outputs": [],
   "source": [
    "spec = spec.sort_values(['location', \"utc\"])\n",
    "spec2 = spec2.sort_values(['location', 'utc'])"
   ]
  },
  {
   "cell_type": "code",
   "execution_count": 23,
   "metadata": {},
   "outputs": [],
   "source": [
    "spec['hourly'] = spec['value'] / spec['datemean']\n",
    "spec2['hourly'] = spec2['value'] / spec2['datemean']"
   ]
  },
  {
   "cell_type": "code",
   "execution_count": 24,
   "metadata": {},
   "outputs": [],
   "source": [
    "lookback = 5\n",
    "\n",
    "xs = pandas.DataFrame(spec['hourly'])\n",
    "tests = pandas.DataFrame(spec2['hourly'])\n",
    "\n",
    "i = 1\n",
    "while i < lookback+1:\n",
    "    xs['hourly-%s' % i] = xs.shift(periods = i)['hourly']\n",
    "    i += 1\n",
    "xs = xs.dropna()\n",
    "\n",
    "i = 1\n",
    "while i < lookback+1:\n",
    "    tests['hourly-%s' % i] = tests.shift(periods = i)['hourly']\n",
    "    i += 1\n",
    "tests = tests.dropna()"
   ]
  },
  {
   "cell_type": "code",
   "execution_count": 25,
   "metadata": {},
   "outputs": [],
   "source": [
    "model2 = tf.keras.Sequential([\n",
    "    tf.keras.layers.Dense(64, activation=\"relu\", input_shape = [lookback]),\n",
    "    tf.keras.layers.Dense(1)\n",
    "])\n",
    "\n",
    "optimizer = tf.keras.optimizers.Adam(lr = 0.01)\n",
    "model2.compile(loss=\"mse\", optimizer = optimizer, metrics=['mae', 'mse'])"
   ]
  },
  {
   "cell_type": "code",
   "execution_count": 26,
   "metadata": {},
   "outputs": [],
   "source": [
    "xlabs = xs[[\"hourly-%s\" % (x+1) for x in range(lookback)]]\n",
    "ylabs = xs['hourly']\n",
    "testx = tests[[\"hourly-%s\" % (x+1) for x in range(lookback)]]\n",
    "testy = tests['hourly']"
   ]
  },
  {
   "cell_type": "markdown",
   "metadata": {},
   "source": [
    "### Train and Evaluation"
   ]
  },
  {
   "cell_type": "code",
   "execution_count": 27,
   "metadata": {},
   "outputs": [
    {
     "name": "stdout",
     "output_type": "stream",
     "text": [
      "\n",
      "......................................................"
     ]
    }
   ],
   "source": [
    "class PrintDot(tf.keras.callbacks.Callback):\n",
    "    def on_epoch_end(self, epoch, logs):\n",
    "        if epoch % 100 == 0: \n",
    "            print(\"\")\n",
    "        print(\".\", end=\"\")\n",
    "\n",
    "early_stop=tf.keras.callbacks.EarlyStopping(monitor='val_loss', patience=50)\n",
    "history=model2.fit(xlabs, ylabs, epochs=EPOCHS,\n",
    "                 validation_split=0.2, verbose=0, callbacks=[early_stop, PrintDot()])\n",
    "        \n",
    "# EPOCHS = 100\n",
    "# history = model.fit(xlabs, ylabs, epochs=EPOCHS, validation_split=0.2, verbose=0, callbacks=[PrintDot()])"
   ]
  },
  {
   "cell_type": "code",
   "execution_count": 28,
   "metadata": {},
   "outputs": [],
   "source": [
    "hist = pandas.DataFrame(history.history)\n",
    "hist['epoch'] = history.epoch"
   ]
  },
  {
   "cell_type": "code",
   "execution_count": 29,
   "metadata": {},
   "outputs": [
    {
     "name": "stdout",
     "output_type": "stream",
     "text": [
      "80/80 - 0s - loss: 0.5692 - mae: 0.3583 - mse: 0.5692\n",
      "Testing set mean abs error:  0.36 MPG\n"
     ]
    }
   ],
   "source": [
    "loss, mae, mse = model2.evaluate(testx, testy, verbose=2)\n",
    "print(\"Testing set mean abs error: {:5.2f} MPG\".format(mae))"
   ]
  },
  {
   "cell_type": "code",
   "execution_count": 30,
   "metadata": {},
   "outputs": [],
   "source": [
    "# preds = model2.predict(testx).T[0]"
   ]
  },
  {
   "cell_type": "code",
   "execution_count": 31,
   "metadata": {},
   "outputs": [],
   "source": [
    "# outs = [[preds[x], testy.iloc[x]] for x in range(len(testy))]"
   ]
  },
  {
   "cell_type": "code",
   "execution_count": 32,
   "metadata": {},
   "outputs": [],
   "source": [
    "# plt.plot(outs)"
   ]
  },
  {
   "cell_type": "markdown",
   "metadata": {},
   "source": [
    "# General Prediction - run all three chunks below. \n",
    "\n",
    "**Changing location: change the location in the quotes**. "
   ]
  },
  {
   "cell_type": "code",
   "execution_count": 33,
   "metadata": {},
   "outputs": [],
   "source": [
    "df2 = pandas.concat([spec, spec2])"
   ]
  },
  {
   "cell_type": "code",
   "execution_count": 34,
   "metadata": {},
   "outputs": [
    {
     "data": {
      "text/plain": [
       "array(['Concord', 'Laney College', 'Oakland', 'Pleasanton - Owens C',\n",
       "       'Redwood City', 'San Francisco', 'San Pablo - Rumrill',\n",
       "       'San Rafael', 'Livermore - Rincon', 'Oakland West'], dtype=object)"
      ]
     },
     "execution_count": 34,
     "metadata": {},
     "output_type": "execute_result"
    }
   ],
   "source": [
    "df2.location.unique()"
   ]
  },
  {
   "cell_type": "code",
   "execution_count": 35,
   "metadata": {},
   "outputs": [],
   "source": [
    "\n",
    "## CHANGE HERE\n",
    "location = \"Concord\"\n",
    "\n",
    "\n",
    "# DO NOT CHANGE, JUST RUN\n",
    "spec3 = df2[df2['location'] == location]\n",
    "\n",
    "lo = pandas.DataFrame(spec3['hourly'])\n",
    "\n",
    "i = 1\n",
    "while i < lookback+1:\n",
    "    lo['hourly-%s' % i] = lo.shift(periods = i)['hourly']\n",
    "    i += 1\n",
    "lo = lo.dropna()\n",
    "\n",
    "try:\n",
    "    preds = model2.predict(lo[['hourly-%s' % (x+1) for x in range(5)]])\n",
    "except UnboundLocalError as e:\n",
    "    print(\"No %s data for %s found.\" % (predict_obj, location))\n",
    "\n",
    "# outs = [[preds[x], lo.iloc[x]['hourly']] for x in range(len(lo))]\n",
    "# plt.plot(outs)"
   ]
  },
  {
   "cell_type": "code",
   "execution_count": 36,
   "metadata": {},
   "outputs": [
    {
     "data": {
      "text/plain": [
       "[<matplotlib.lines.Line2D at 0x7f933574c550>,\n",
       " <matplotlib.lines.Line2D at 0x7f93357abd50>]"
      ]
     },
     "execution_count": 36,
     "metadata": {},
     "output_type": "execute_result"
    },
    {
     "data": {
      "image/png": "[encoded data removed]",
      "text/plain": [
       "<Figure size 432x288 with 1 Axes>"
      ]
     },
     "metadata": {
      "needs_background": "light"
     },
     "output_type": "display_data"
    }
   ],
   "source": [
    "means = pandas.DataFrame(spec3['datemean'])\n",
    "means['value'] = means['datemean']\n",
    "del means['datemean']\n",
    "i = 1\n",
    "while i < lookback + 1:\n",
    "    means['value-%s' % i] = means.shift(periods=i)['value']\n",
    "    i +=1\n",
    "\n",
    "means = means.dropna()\n",
    "preds2 = model.predict(means[['value-%s' % (x+1) for x in range(5)]] * 100) / 100\n",
    "outs2 = [[preds2[x], means.iloc[x]['value']] for x in range(len(means))]\n",
    "plt.plot(outs2)"
   ]
  },
  {
   "cell_type": "code",
   "execution_count": 37,
   "metadata": {},
   "outputs": [
    {
     "name": "stdout",
     "output_type": "stream",
     "text": [
      "Mean Absolute Error for location Concord: [9.349724]\n",
      "Mean Squared Error for location Concord: [457.04608]\n"
     ]
    },
    {
     "data": {
      "image/png": "[encoded data removed]",
      "text/plain": [
       "<Figure size 432x288 with 1 Axes>"
      ]
     },
     "metadata": {
      "needs_background": "light"
     },
     "output_type": "display_data"
    }
   ],
   "source": [
    "predicted = [preds2[x] * preds[x] for x in range(len(preds))]\n",
    "actual = spec3['value']\n",
    "allpoints = [[predicted[x], actual.iloc[x]] for x in range(len(predicted))]\n",
    "allpointsabs = [abs(x[1] - x[0]) for x in allpoints]\n",
    "allpointssq = [(x[1] - x[0])**2 for x in allpoints]\n",
    "mae = sum(allpointsabs) / len(allpointsabs)\n",
    "mse = sum(allpointssq) / len(allpointssq)\n",
    "print(\"Mean Absolute Error for location %s:\"%location, mae)\n",
    "print(\"Mean Squared Error for location %s:\"%location, mse)\n",
    "plt.plot([[predicted[x], actual.iloc[x]] for x in range(len(predicted))])\n",
    "plt.plot()\n",
    "plt.xlabel(\"Time\")\n",
    "plt.ylabel(\"%s level for %s\" % (predict_obj, location))\n",
    "plt.title(\"Estimated vs. Actual %s level for %s, mae %s, mse %s\" % (predict_obj, location, round(mae[0], 2), round(mse[0], 2)))\n",
    "plt.show()"
   ]
  },
  {
   "cell_type": "code",
   "execution_count": null,
   "metadata": {},
   "outputs": [],
   "source": []
  },
  {
   "cell_type": "code",
   "execution_count": 52,
   "metadata": {},
   "outputs": [],
   "source": [
    "path = \"./datasets-main/AirQuality/OpenAQDurham.csv\"\n",
    "dt = pandas.read_csv(path)\n",
    "dt['monthdate'] = dt['utc'].apply(lambda x: x[5:10])"
   ]
  },
  {
   "cell_type": "code",
   "execution_count": 53,
   "metadata": {},
   "outputs": [],
   "source": [
    "cities = dt.location.unique()\n",
    "por = int(len(cities)*0.8)\n",
    "train = cities[:por]\n",
    "test = cities[por:]\n",
    "\n",
    "spec = dt[([x in train for x in dt['location']]) & (dt['parameter'] == predict_obj)]\n",
    "spec2 = dt[([x in test for x in dt['location']]) & (dt['parameter'] == predict_obj)]"
   ]
  },
  {
   "cell_type": "code",
   "execution_count": 54,
   "metadata": {
    "scrolled": true
   },
   "outputs": [
    {
     "name": "stderr",
     "output_type": "stream",
     "text": [
      "/Library/Frameworks/Python.framework/Versions/3.7/lib/python3.7/site-packages/ipykernel_launcher.py:2: SettingWithCopyWarning: \n",
      "A value is trying to be set on a copy of a slice from a DataFrame.\n",
      "Try using .loc[row_indexer,col_indexer] = value instead\n",
      "\n",
      "See the caveats in the documentation: http://pandas.pydata.org/pandas-docs/stable/user_guide/indexing.html#returning-a-view-versus-a-copy\n",
      "  \n",
      "/Library/Frameworks/Python.framework/Versions/3.7/lib/python3.7/site-packages/ipykernel_launcher.py:4: SettingWithCopyWarning: \n",
      "A value is trying to be set on a copy of a slice from a DataFrame.\n",
      "Try using .loc[row_indexer,col_indexer] = value instead\n",
      "\n",
      "See the caveats in the documentation: http://pandas.pydata.org/pandas-docs/stable/user_guide/indexing.html#returning-a-view-versus-a-copy\n",
      "  after removing the cwd from sys.path.\n"
     ]
    }
   ],
   "source": [
    "means = spec.groupby([\"monthdate\", 'location'])['value'].mean()\n",
    "spec['datemean'] = spec.apply(lambda x: means[x['monthdate']][x['location']], axis=1)\n",
    "means2 = spec2.groupby([\"monthdate\", 'location'])['value'].mean()\n",
    "spec2['datemean'] = spec2.apply(lambda x: means2[x['monthdate']][x['location']], axis=1)"
   ]
  },
  {
   "cell_type": "code",
   "execution_count": 55,
   "metadata": {},
   "outputs": [],
   "source": [
    "spec = spec.sort_values(['location', \"utc\"])\n",
    "spec2 = spec2.sort_values(['location', 'utc'])"
   ]
  },
  {
   "cell_type": "code",
   "execution_count": 56,
   "metadata": {},
   "outputs": [],
   "source": [
    "spec['hourly'] = spec['value'] / spec['datemean']\n",
    "spec2['hourly'] = spec2['value'] / spec2['datemean']"
   ]
  },
  {
   "cell_type": "code",
   "execution_count": 57,
   "metadata": {},
   "outputs": [],
   "source": [
    "df2 = pandas.concat([spec, spec2])"
   ]
  },
  {
   "cell_type": "code",
   "execution_count": 58,
   "metadata": {},
   "outputs": [],
   "source": [
    "df2['year'] = df2['utc'].apply(lambda x: x[:4])"
   ]
  },
  {
   "cell_type": "code",
   "execution_count": 59,
   "metadata": {},
   "outputs": [],
   "source": [
    "df2 = df2[df2['year'] == \"2020\"]"
   ]
  },
  {
   "cell_type": "code",
   "execution_count": 62,
   "metadata": {},
   "outputs": [],
   "source": [
    "\n",
    "## CHANGE HERE\n",
    "location = \"Durham Armory\"\n",
    "\n",
    "\n",
    "# DO NOT CHANGE, JUST RUN\n",
    "spec3 = df2[df2['location'] == location]\n",
    "\n",
    "lo = pandas.DataFrame(spec3['hourly'])\n",
    "\n",
    "i = 1\n",
    "while i < lookback+1:\n",
    "    lo['hourly-%s' % i] = lo.shift(periods = i)['hourly']\n",
    "    i += 1\n",
    "lo = lo.dropna()\n",
    "\n",
    "try:\n",
    "    preds = model2.predict(lo[['hourly-%s' % (x+1) for x in range(5)]])\n",
    "except UnboundLocalError as e:\n",
    "    print(\"No %s data for %s found.\" % (predict_obj, location))\n",
    "\n",
    "# outs = [[preds[x], lo.iloc[x]['hourly']] for x in range(len(lo))]\n",
    "# plt.plot(outs)"
   ]
  },
  {
   "cell_type": "code",
   "execution_count": 63,
   "metadata": {},
   "outputs": [
    {
     "data": {
      "text/plain": [
       "[<matplotlib.lines.Line2D at 0x7f93347fb590>,\n",
       " <matplotlib.lines.Line2D at 0x7f93347ab950>]"
      ]
     },
     "execution_count": 63,
     "metadata": {},
     "output_type": "execute_result"
    },
    {
     "data": {
      "image/png": "[encoded data removed]",
      "text/plain": [
       "<Figure size 432x288 with 1 Axes>"
      ]
     },
     "metadata": {
      "needs_background": "light"
     },
     "output_type": "display_data"
    }
   ],
   "source": [
    "means = pandas.DataFrame(spec3['datemean'])\n",
    "means['value'] = means['datemean']\n",
    "del means['datemean']\n",
    "i = 1\n",
    "while i < lookback + 1:\n",
    "    means['value-%s' % i] = means.shift(periods=i)['value']\n",
    "    i +=1\n",
    "\n",
    "means = means.dropna()\n",
    "preds2 = model.predict(means[['value-%s' % (x+1) for x in range(5)]] * 100) / 100\n",
    "outs2 = [[preds2[x], means.iloc[x]['value']] for x in range(len(means))]\n",
    "plt.plot(outs2)"
   ]
  },
  {
   "cell_type": "code",
   "execution_count": 90,
   "metadata": {},
   "outputs": [
    {
     "name": "stdout",
     "output_type": "stream",
     "text": [
      "Mean Absolute Error for location Durham Armory: 2.7963729943618914\n",
      "Mean Squared Error for location Durham Armory: 16.844075774176122\n"
     ]
    },
    {
     "data": {
      "image/png": "[encoded data removed]",
      "text/plain": [
       "<Figure size 432x288 with 1 Axes>"
      ]
     },
     "metadata": {
      "needs_background": "light"
     },
     "output_type": "display_data"
    }
   ],
   "source": [
    "predicted = [preds2[x] * preds[x] for x in range(len(preds))]\n",
    "actual = spec3['value']\n",
    "allpoints = [[predicted[x], actual.iloc[x]] for x in range(len(predicted))]\n",
    "allpointsabs = [abs(x[1] - x[0][0]) for x in allpoints]\n",
    "allpointssq = [((x[1] - x[0][0])**2) for x in allpoints]\n",
    "allpointsabs = [x for x in allpointsabs if not pandas.isna(x)]\n",
    "allpointssq = [x for x in allpointssq if not pandas.isna(x)]\n",
    "mae = sum(allpointsabs) / len(allpointsabs)\n",
    "mse = sum(allpointssq) / len(allpointssq)\n",
    "print(\"Mean Absolute Error for location %s:\"%location, mae)\n",
    "print(\"Mean Squared Error for location %s:\"%location, mse)\n",
    "plt.plot([[predicted[x], actual.iloc[x]] for x in range(len(predicted))])\n",
    "plt.plot()\n",
    "plt.xlabel(\"Time\")\n",
    "plt.ylabel(\"%s level for %s\" % (predict_obj, location))\n",
    "plt.title(\"Estimated vs. Actual %s level for %s, mae %s, mse %s\" % (predict_obj, location, round(mae, 2), round(mse, 2)))\n",
    "plt.show()"
   ]
  },
  {
   "cell_type": "code",
   "execution_count": 77,
   "metadata": {
    "scrolled": false
   },
   "outputs": [
    {
     "data": {
      "text/plain": [
       "True"
      ]
     },
     "execution_count": 77,
     "metadata": {},
     "output_type": "execute_result"
    }
   ],
   "source": [
    "pandas.isna(numpy.nan)"
   ]
  },
  {
   "cell_type": "code",
   "execution_count": 61,
   "metadata": {},
   "outputs": [
    {
     "data": {
      "text/plain": [
       "array(['Durham Armory', 'Burdens Creek'], dtype=object)"
      ]
     },
     "execution_count": 61,
     "metadata": {},
     "output_type": "execute_result"
    }
   ],
   "source": [
    "df2.location.unique()"
   ]
  },
  {
   "cell_type": "code",
   "execution_count": 88,
   "metadata": {},
   "outputs": [
    {
     "data": {
      "text/plain": [
       "[[array([7.143051], dtype=float32), 2.0],\n",
       " [array([6.2349634], dtype=float32), 3.0],\n",
       " [array([4.9944057], dtype=float32), 6.0],\n",
       " [array([5.2897897], dtype=float32), 8.0],\n",
       " [array([3.9523628], dtype=float32), 11.0],\n",
       " [array([3.2596142], dtype=float32), 9.0],\n",
       " [array([2.762947], dtype=float32), 7.0],\n",
       " [array([2.0757372], dtype=float32), 8.0],\n",
       " [array([2.0430284], dtype=float32), 6.0],\n",
       " [array([2.0628197], dtype=float32), 4.0],\n",
       " [array([3.3819702], dtype=float32), 3.0],\n",
       " [array([5.2072206], dtype=float32), 0.0],\n",
       " [array([3.5297487], dtype=float32), 0.0],\n",
       " [array([1.5402675], dtype=float32), 1.0],\n",
       " [array([2.3336732], dtype=float32), 2.0],\n",
       " [array([2.04202], dtype=float32), 4.0],\n",
       " [array([1.0009915], dtype=float32), 3.0],\n",
       " [array([1.6392771], dtype=float32), -1.0],\n",
       " [array([4.1563654], dtype=float32), 1.0],\n",
       " [array([5.452441], dtype=float32), 1.0],\n",
       " [array([4.9498463], dtype=float32), -2.0],\n",
       " [array([8.383695], dtype=float32), -2.0],\n",
       " [array([6.35241], dtype=float32), 2.0],\n",
       " [array([6.256936], dtype=float32), 4.0],\n",
       " [array([8.387421], dtype=float32), 5.0],\n",
       " [array([7.7836475], dtype=float32), 6.0],\n",
       " [array([7.03298], dtype=float32), 6.0],\n",
       " [array([7.612073], dtype=float32), 8.0],\n",
       " [array([10.671843], dtype=float32), 8.0],\n",
       " [array([9.795059], dtype=float32), 7.0],\n",
       " [array([9.461836], dtype=float32), 6.0],\n",
       " [array([8.412939], dtype=float32), 7.0],\n",
       " [array([9.450652], dtype=float32), 12.0],\n",
       " [array([8.213134], dtype=float32), 11.0],\n",
       " [array([8.602811], dtype=float32), 10.0],\n",
       " [array([8.393593], dtype=float32), 9.0],\n",
       " [array([7.2419095], dtype=float32), 11.0],\n",
       " [array([6.174333], dtype=float32), 9.0],\n",
       " [array([6.213721], dtype=float32), 9.0],\n",
       " [array([5.5783343], dtype=float32), 9.0],\n",
       " [array([8.496509], dtype=float32), 7.0],\n",
       " [array([7.6859255], dtype=float32), 5.0],\n",
       " [array([7.807974], dtype=float32), 5.0],\n",
       " [array([12.20837], dtype=float32), 4.0],\n",
       " [array([9.2344885], dtype=float32), 9.0],\n",
       " [array([10.78367], dtype=float32), 7.0],\n",
       " [array([10.003265], dtype=float32), 6.0],\n",
       " [array([11.162573], dtype=float32), 13.0],\n",
       " [array([9.950058], dtype=float32), 9.0],\n",
       " [array([8.884227], dtype=float32), 10.0],\n",
       " [array([7.421717], dtype=float32), 10.0],\n",
       " [array([8.179932], dtype=float32), 12.0],\n",
       " [array([10.258981], dtype=float32), 10.0],\n",
       " [array([9.007168], dtype=float32), 8.0],\n",
       " [array([10.059337], dtype=float32), 6.0],\n",
       " [array([9.556882], dtype=float32), 7.0],\n",
       " [array([10.278045], dtype=float32), 10.0],\n",
       " [array([10.2138815], dtype=float32), 8.0],\n",
       " [array([11.962621], dtype=float32), 9.0],\n",
       " [array([12.802481], dtype=float32), 9.0],\n",
       " [array([11.537946], dtype=float32), 10.0],\n",
       " [array([9.755914], dtype=float32), 10.0],\n",
       " [array([7.0354567], dtype=float32), 13.0],\n",
       " [array([7.2243037], dtype=float32), 15.0],\n",
       " [array([7.439477], dtype=float32), 13.0],\n",
       " [array([11.280597], dtype=float32), 10.0],\n",
       " [array([11.281365], dtype=float32), 6.0],\n",
       " [array([6.3633265], dtype=float32), 6.0],\n",
       " [array([3.1909993], dtype=float32), 4.0],\n",
       " [array([4.3214335], dtype=float32), 5.0],\n",
       " [array([3.5126328], dtype=float32), 6.0],\n",
       " [array([2.0303357], dtype=float32), 5.0],\n",
       " [array([3.3556752], dtype=float32), 4.0],\n",
       " [array([2.994939], dtype=float32), 6.0],\n",
       " [array([1.6528642], dtype=float32), 5.0],\n",
       " [array([1.5951939], dtype=float32), 2.0],\n",
       " [array([1.5276444], dtype=float32), 4.0],\n",
       " [array([1.4789277], dtype=float32), 4.0],\n",
       " [array([1.944798], dtype=float32), 1.0],\n",
       " [array([3.563945], dtype=float32), 0.0],\n",
       " [array([3.6529758], dtype=float32), 0.0],\n",
       " [array([1.474524], dtype=float32), 0.0],\n",
       " [array([3.9681025], dtype=float32), 0.0],\n",
       " [array([2.7999446], dtype=float32), 2.0],\n",
       " [array([1.7944849], dtype=float32), 3.0],\n",
       " [array([1.9165506], dtype=float32), 0.0],\n",
       " [array([1.5209119], dtype=float32), 3.0],\n",
       " [array([2.0437582], dtype=float32), 3.0],\n",
       " [array([1.1659268], dtype=float32), 1.0],\n",
       " [array([-1.3087084], dtype=float32), 1.0],\n",
       " [array([3.2764225], dtype=float32), 0.0],\n",
       " [array([2.0558221], dtype=float32), 1.0],\n",
       " [array([2.985406], dtype=float32), 0.0],\n",
       " [array([2.2836924], dtype=float32), -2.0],\n",
       " [array([1.2933165], dtype=float32), 1.0],\n",
       " [array([1.9715226], dtype=float32), 2.0],\n",
       " [array([3.1316528], dtype=float32), 2.0],\n",
       " [array([2.41847], dtype=float32), 2.0],\n",
       " [array([2.5520413], dtype=float32), 1.0],\n",
       " [array([2.286919], dtype=float32), 2.0],\n",
       " [array([1.1188971], dtype=float32), 4.0],\n",
       " [array([2.5021026], dtype=float32), 3.0],\n",
       " [array([1.6110033], dtype=float32), 3.0],\n",
       " [array([0.88852316], dtype=float32), 3.0],\n",
       " [array([0.8430023], dtype=float32), 1.0],\n",
       " [array([0.9632468], dtype=float32), 3.0],\n",
       " [array([1.0719165], dtype=float32), 2.0],\n",
       " [array([2.441511], dtype=float32), 0.0],\n",
       " [array([1.829204], dtype=float32), -1.0],\n",
       " [array([1.8026582], dtype=float32), 0.0],\n",
       " [array([3.8255265], dtype=float32), 0.0],\n",
       " [array([3.6291633], dtype=float32), 1.0],\n",
       " [array([1.6446353], dtype=float32), 1.0],\n",
       " [array([4.337425], dtype=float32), 1.0],\n",
       " [array([5.889849], dtype=float32), 4.0],\n",
       " [array([4.1493363], dtype=float32), 5.0],\n",
       " [array([6.160836], dtype=float32), 3.0],\n",
       " [array([5.104778], dtype=float32), 4.0],\n",
       " [array([3.1376743], dtype=float32), 9.0],\n",
       " [array([4.130777], dtype=float32), 8.0],\n",
       " [array([4.0035872], dtype=float32), 7.0],\n",
       " [array([4.3653793], dtype=float32), 6.0],\n",
       " [array([6.372975], dtype=float32), 3.0],\n",
       " [array([4.7952404], dtype=float32), 4.0],\n",
       " [array([6.269281], dtype=float32), 4.0],\n",
       " [array([7.0479274], dtype=float32), 4.0],\n",
       " [array([5.6893196], dtype=float32), 7.0],\n",
       " [array([4.6815825], dtype=float32), 5.0],\n",
       " [array([3.8821418], dtype=float32), 7.0],\n",
       " [array([2.7867749], dtype=float32), 9.0],\n",
       " [array([2.5849233], dtype=float32), 7.0],\n",
       " [array([2.5204525], dtype=float32), 5.0],\n",
       " [array([3.3842425], dtype=float32), 4.0],\n",
       " [array([4.650424], dtype=float32), 1.0],\n",
       " [array([4.795824], dtype=float32), -1.0],\n",
       " [array([6.689877], dtype=float32), -1.0],\n",
       " [array([6.702118], dtype=float32), 1.0],\n",
       " [array([7.3289313], dtype=float32), 2.0],\n",
       " [array([5.9006243], dtype=float32), 2.0],\n",
       " [array([6.82237], dtype=float32), 5.0],\n",
       " [array([8.691574], dtype=float32), 11.0],\n",
       " [array([7.1665645], dtype=float32), 7.0],\n",
       " [array([9.313591], dtype=float32), 5.0],\n",
       " [array([6.6648903], dtype=float32), 8.0],\n",
       " [array([7.9530087], dtype=float32), 9.0],\n",
       " [array([7.6125183], dtype=float32), 6.0],\n",
       " [array([9.057072], dtype=float32), 9.0],\n",
       " [array([7.671664], dtype=float32), 6.0],\n",
       " [array([8.570376], dtype=float32), 7.0],\n",
       " [array([8.813853], dtype=float32), 7.0],\n",
       " [array([9.433864], dtype=float32), 9.0],\n",
       " [array([9.411407], dtype=float32), 7.0],\n",
       " [array([8.135147], dtype=float32), 8.0],\n",
       " [array([8.155382], dtype=float32), 9.0],\n",
       " [array([8.018396], dtype=float32), 10.0],\n",
       " [array([8.182127], dtype=float32), 10.0],\n",
       " [array([9.47933], dtype=float32), 8.0],\n",
       " [array([8.13092], dtype=float32), 8.0],\n",
       " [array([7.0754356], dtype=float32), 8.0],\n",
       " [array([6.9541817], dtype=float32), 8.0],\n",
       " [array([7.5113025], dtype=float32), 10.0],\n",
       " [array([6.2000775], dtype=float32), 8.0],\n",
       " [array([6.8374553], dtype=float32), 6.0],\n",
       " [array([4.150346], dtype=float32), 6.0],\n",
       " [array([2.5831306], dtype=float32), 6.0],\n",
       " [array([3.3968456], dtype=float32), 4.0],\n",
       " [array([4.4913125], dtype=float32), 5.0],\n",
       " [array([5.791133], dtype=float32), 4.0],\n",
       " [array([5.728259], dtype=float32), 2.0],\n",
       " [array([3.2027147], dtype=float32), 3.0],\n",
       " [array([5.089671], dtype=float32), 5.0],\n",
       " [array([5.0947], dtype=float32), 7.0],\n",
       " [array([4.313108], dtype=float32), 7.0],\n",
       " [array([5.098726], dtype=float32), 3.0],\n",
       " [array([5.867227], dtype=float32), 6.0],\n",
       " [array([3.4560306], dtype=float32), 7.0],\n",
       " [array([2.665881], dtype=float32), 5.0],\n",
       " [array([2.3290262], dtype=float32), 6.0],\n",
       " [array([2.075614], dtype=float32), 8.0],\n",
       " [array([2.1133184], dtype=float32), 4.0],\n",
       " [array([3.0576937], dtype=float32), 2.0],\n",
       " [array([2.7537136], dtype=float32), 1.0],\n",
       " [array([4.119597], dtype=float32), -1.0],\n",
       " [array([2.878101], dtype=float32), -1.0],\n",
       " [array([6.268934], dtype=float32), 1.0],\n",
       " [array([4.77032], dtype=float32), 0.0],\n",
       " [array([4.081491], dtype=float32), 1.0],\n",
       " [array([5.2824035], dtype=float32), 1.0],\n",
       " [array([5.035272], dtype=float32), 6.0],\n",
       " [array([5.9944105], dtype=float32), 5.0],\n",
       " [array([4.572221], dtype=float32), 3.0],\n",
       " [array([7.825177], dtype=float32), 5.0],\n",
       " [array([6.535933], dtype=float32), 5.0],\n",
       " [array([5.7729044], dtype=float32), 6.0],\n",
       " [array([5.5729747], dtype=float32), 4.0],\n",
       " [array([4.6993556], dtype=float32), 9.0],\n",
       " [array([4.3537097], dtype=float32), 8.0],\n",
       " [array([5.7528725], dtype=float32), 6.0],\n",
       " [array([5.0154805], dtype=float32), 6.0],\n",
       " [array([5.3558207], dtype=float32), 5.0],\n",
       " [array([5.7893014], dtype=float32), 4.0],\n",
       " [array([5.077912], dtype=float32), 6.0],\n",
       " [array([4.6039042], dtype=float32), 5.0],\n",
       " [array([3.867811], dtype=float32), 5.0],\n",
       " [array([3.2367013], dtype=float32), 6.0],\n",
       " [array([4.068865], dtype=float32), 5.0],\n",
       " [array([4.7365804], dtype=float32), 4.0],\n",
       " [array([4.8540106], dtype=float32), 3.0],\n",
       " [array([3.817461], dtype=float32), 2.0],\n",
       " [array([6.675923], dtype=float32), 3.0],\n",
       " [array([8.1040535], dtype=float32), 4.0],\n",
       " [array([9.284167], dtype=float32), 4.0],\n",
       " [array([10.257624], dtype=float32), 3.0],\n",
       " [array([7.5526676], dtype=float32), 6.0],\n",
       " [array([8.136698], dtype=float32), 9.0],\n",
       " [array([7.1079865], dtype=float32), 11.0],\n",
       " [array([6.2297797], dtype=float32), 11.0],\n",
       " [array([8.490876], dtype=float32), 7.0],\n",
       " [array([8.803339], dtype=float32), 8.0],\n",
       " [array([8.466742], dtype=float32), 7.0],\n",
       " [array([9.66417], dtype=float32), 5.0],\n",
       " [array([9.174277], dtype=float32), 8.0],\n",
       " [array([7.4840856], dtype=float32), 9.0],\n",
       " [array([9.417788], dtype=float32), 8.0],\n",
       " [array([7.752609], dtype=float32), 10.0],\n",
       " [array([7.6718206], dtype=float32), 10.0],\n",
       " [array([6.885313], dtype=float32), 7.0],\n",
       " [array([8.240476], dtype=float32), 10.0],\n",
       " [array([6.8640532], dtype=float32), 8.0],\n",
       " [array([8.631832], dtype=float32), 7.0],\n",
       " [array([8.239547], dtype=float32), 6.0],\n",
       " [array([8.412024], dtype=float32), 8.0],\n",
       " [array([9.08528], dtype=float32), 6.0],\n",
       " [array([9.3517065], dtype=float32), 8.0],\n",
       " [array([12.980974], dtype=float32), 8.0],\n",
       " [array([10.975804], dtype=float32), 8.0],\n",
       " [array([12.261942], dtype=float32), 9.0],\n",
       " [array([8.484438], dtype=float32), 10.0],\n",
       " [array([7.6586776], dtype=float32), 16.0],\n",
       " [array([5.7765822], dtype=float32), 14.0],\n",
       " [array([4.680617], dtype=float32), 16.0],\n",
       " [array([4.757468], dtype=float32), 11.0],\n",
       " [array([4.78059], dtype=float32), 9.0],\n",
       " [array([8.02405], dtype=float32), 6.0],\n",
       " [array([6.576118], dtype=float32), 2.0],\n",
       " [array([5.4439855], dtype=float32), 3.0],\n",
       " [array([5.3044286], dtype=float32), 3.0],\n",
       " [array([8.525183], dtype=float32), 6.0],\n",
       " [array([7.5879226], dtype=float32), 5.0],\n",
       " [array([6.0766826], dtype=float32), 3.0],\n",
       " [array([6.5674043], dtype=float32), 3.0],\n",
       " [array([8.077556], dtype=float32), 8.0],\n",
       " [array([9.407723], dtype=float32), 7.0],\n",
       " [array([6.9583554], dtype=float32), 4.0],\n",
       " [array([6.4406214], dtype=float32), 5.0],\n",
       " [array([8.034742], dtype=float32), 8.0],\n",
       " [array([11.153663], dtype=float32), 10.0],\n",
       " [array([5.8856864], dtype=float32), 6.0],\n",
       " [array([1.9304339], dtype=float32), 5.0],\n",
       " [array([1.2591858], dtype=float32), 5.0],\n",
       " [array([1.1659654], dtype=float32), 6.0],\n",
       " [array([2.2422056], dtype=float32), 3.0],\n",
       " [array([2.3106565], dtype=float32), 0.0],\n",
       " [array([1.8271754], dtype=float32), -1.0],\n",
       " [array([-0.8533632], dtype=float32), -1.0],\n",
       " [array([6.1097536], dtype=float32), 1.0],\n",
       " [array([2.1183398], dtype=float32), 1.0],\n",
       " [array([0.7295888], dtype=float32), 0.0],\n",
       " [array([2.4361906], dtype=float32), -2.0],\n",
       " [array([3.5779166], dtype=float32), 6.0],\n",
       " [array([2.5287013], dtype=float32), 4.0],\n",
       " [array([2.2947185], dtype=float32), 1.0],\n",
       " [array([2.6388278], dtype=float32), 2.0],\n",
       " [array([1.3816901], dtype=float32), 5.0],\n",
       " [array([1.3132263], dtype=float32), 3.0],\n",
       " [array([1.5335344], dtype=float32), 2.0],\n",
       " [array([2.8789768], dtype=float32), 3.0],\n",
       " [array([2.9322288], dtype=float32), 1.0],\n",
       " [array([3.6362638], dtype=float32), 0.0],\n",
       " [array([2.2197526], dtype=float32), 1.0],\n",
       " [array([3.240337], dtype=float32), 3.0],\n",
       " [array([3.0894384], dtype=float32), 3.0],\n",
       " [array([2.168612], dtype=float32), 4.0],\n",
       " [array([2.5763931], dtype=float32), 3.0],\n",
       " [array([5.006143], dtype=float32), 4.0],\n",
       " [array([4.1427407], dtype=float32), 4.0],\n",
       " [array([3.3116045], dtype=float32), 2.0],\n",
       " [array([4.389294], dtype=float32), 2.0],\n",
       " [array([2.693259], dtype=float32), 6.0],\n",
       " [array([3.1814601], dtype=float32), 5.0],\n",
       " [array([3.658672], dtype=float32), 3.0],\n",
       " [array([2.9960651], dtype=float32), 5.0],\n",
       " [array([3.8431823], dtype=float32), 3.0],\n",
       " [array([4.2491717], dtype=float32), 3.0],\n",
       " [array([3.0278225], dtype=float32), 4.0],\n",
       " [array([3.199006], dtype=float32), 3.0],\n",
       " [array([3.5690975], dtype=float32), 4.0],\n",
       " [array([2.315009], dtype=float32), 5.0],\n",
       " [array([1.8944296], dtype=float32), 3.0],\n",
       " [array([1.9482558], dtype=float32), 3.0],\n",
       " [array([2.5133257], dtype=float32), 4.0],\n",
       " [array([3.0701692], dtype=float32), 2.0],\n",
       " [array([1.8431664], dtype=float32), 0.0],\n",
       " [array([-1.6948957], dtype=float32), 1.0],\n",
       " [array([4.6112866], dtype=float32), 2.0],\n",
       " [array([3.5144699], dtype=float32), 2.0],\n",
       " [array([0.55431545], dtype=float32), 0.0],\n",
       " [array([2.2872224], dtype=float32), -2.0],\n",
       " [array([1.6945257], dtype=float32), 1.0],\n",
       " [array([1.6043061], dtype=float32), 3.0],\n",
       " [array([1.1421331], dtype=float32), 1.0],\n",
       " [array([0.06456295], dtype=float32), 1.0],\n",
       " [array([-1.3433291], dtype=float32), 2.0],\n",
       " [array([1.9714857], dtype=float32), 2.0],\n",
       " [array([0.9864274], dtype=float32), 1.0],\n",
       " [array([1.5303113], dtype=float32), -1.0],\n",
       " [array([1.5119443], dtype=float32), -4.0],\n",
       " [array([0.8082128], dtype=float32), -1.0],\n",
       " [array([2.4259772], dtype=float32), 2.0],\n",
       " [array([1.9503165], dtype=float32), 2.0],\n",
       " [array([1.8692858], dtype=float32), 0.0],\n",
       " [array([1.0635775], dtype=float32), 0.0],\n",
       " [array([1.5457584], dtype=float32), 3.0],\n",
       " [array([1.5101017], dtype=float32), 3.0],\n",
       " [array([1.7045182], dtype=float32), 2.0],\n",
       " [array([2.3404386], dtype=float32), 1.0],\n",
       " [array([1.5244544], dtype=float32), 2.0],\n",
       " [array([1.2247748], dtype=float32), 2.0],\n",
       " [array([1.7033175], dtype=float32), 2.0],\n",
       " [array([1.2188926], dtype=float32), 3.0],\n",
       " [array([2.3210483], dtype=float32), 2.0],\n",
       " [array([2.0331726], dtype=float32), 2.0],\n",
       " [array([2.3265097], dtype=float32), 2.0],\n",
       " [array([1.4678018], dtype=float32), 1.0],\n",
       " [array([1.2924178], dtype=float32), 3.0],\n",
       " [array([1.2747251], dtype=float32), 2.0],\n",
       " [array([1.7367523], dtype=float32), 2.0],\n",
       " [array([2.7282274], dtype=float32), 1.0],\n",
       " [array([2.625444], dtype=float32), 0.0],\n",
       " [array([3.9277852], dtype=float32), 0.0],\n",
       " [array([2.6846797], dtype=float32), 1.0],\n",
       " [array([1.5359721], dtype=float32), 2.0],\n",
       " [array([1.4753785], dtype=float32), 2.0],\n",
       " [array([2.644421], dtype=float32), 4.0],\n",
       " [array([2.057886], dtype=float32), 3.0],\n",
       " [array([1.3093262], dtype=float32), 1.0],\n",
       " [array([1.6796716], dtype=float32), 1.0],\n",
       " [array([2.0795743], dtype=float32), 3.0],\n",
       " [array([4.48478], dtype=float32), 2.0],\n",
       " [array([4.6434865], dtype=float32), 0.0],\n",
       " [array([3.248005], dtype=float32), 1.0],\n",
       " [array([3.1208868], dtype=float32), 2.0],\n",
       " [array([4.9901757], dtype=float32), 5.0],\n",
       " [array([3.2795124], dtype=float32), 6.0],\n",
       " [array([2.675756], dtype=float32), 4.0],\n",
       " [array([4.913047], dtype=float32), 6.0],\n",
       " [array([4.0756726], dtype=float32), 8.0],\n",
       " [array([5.220937], dtype=float32), 5.0],\n",
       " [array([4.3394156], dtype=float32), 3.0],\n",
       " [array([3.195194], dtype=float32), 6.0],\n",
       " [array([3.8851116], dtype=float32), 5.0],\n",
       " [array([2.4110897], dtype=float32), 6.0],\n",
       " [array([2.2389815], dtype=float32), 5.0],\n",
       " [array([5.122426], dtype=float32), 3.0],\n",
       " [array([3.854194], dtype=float32), 4.0],\n",
       " [array([4.1225443], dtype=float32), 2.0],\n",
       " [array([3.65631], dtype=float32), 0.0],\n",
       " [array([2.3123941], dtype=float32), 5.0],\n",
       " [array([2.2215352], dtype=float32), 4.0],\n",
       " [array([2.1835697], dtype=float32), 3.0],\n",
       " [array([5.236879], dtype=float32), 3.0],\n",
       " [array([2.074836], dtype=float32), 1.0],\n",
       " [array([5.258468], dtype=float32), 0.0],\n",
       " [array([4.183909], dtype=float32), 0.0],\n",
       " [array([2.4601972], dtype=float32), 4.0],\n",
       " [array([1.8101187], dtype=float32), 1.0],\n",
       " [array([1.5509481], dtype=float32), 3.0],\n",
       " [array([2.38139], dtype=float32), 4.0],\n",
       " [array([1.6633989], dtype=float32), 2.0],\n",
       " [array([3.2775705], dtype=float32), 1.0],\n",
       " [array([2.481014], dtype=float32), 0.0],\n",
       " [array([2.474334], dtype=float32), 2.0],\n",
       " [array([3.7922816], dtype=float32), 1.0],\n",
       " [array([2.8873694], dtype=float32), 2.0],\n",
       " [array([2.435719], dtype=float32), 2.0],\n",
       " [array([2.2921064], dtype=float32), 2.0],\n",
       " [array([4.1028395], dtype=float32), 4.0],\n",
       " [array([3.3485832], dtype=float32), 3.0],\n",
       " [array([3.0151336], dtype=float32), 2.0],\n",
       " [array([2.1833956], dtype=float32), 2.0],\n",
       " [array([2.120334], dtype=float32), 5.0],\n",
       " [array([2.8535848], dtype=float32), 4.0],\n",
       " [array([2.9160657], dtype=float32), 3.0],\n",
       " [array([3.013058], dtype=float32), 2.0],\n",
       " [array([3.5503867], dtype=float32), 2.0],\n",
       " [array([3.2287283], dtype=float32), 3.0],\n",
       " [array([4.011721], dtype=float32), 3.0],\n",
       " [array([3.9939032], dtype=float32), 3.0],\n",
       " [array([5.1575], dtype=float32), 4.0],\n",
       " [array([5.488614], dtype=float32), 5.0],\n",
       " [array([3.7931263], dtype=float32), 5.0],\n",
       " [array([3.8594668], dtype=float32), 5.0],\n",
       " [array([3.6250362], dtype=float32), 7.0],\n",
       " [array([2.3845508], dtype=float32), 7.0],\n",
       " [array([2.9681404], dtype=float32), 4.0],\n",
       " [array([4.080551], dtype=float32), 4.0],\n",
       " [array([4.8377748], dtype=float32), 4.0],\n",
       " [array([4.317917], dtype=float32), 1.0],\n",
       " [array([3.5747254], dtype=float32), 2.0],\n",
       " [array([4.675423], dtype=float32), 4.0],\n",
       " [array([3.8746645], dtype=float32), 5.0],\n",
       " [array([5.376976], dtype=float32), 4.0],\n",
       " [array([3.85669], dtype=float32), 3.0],\n",
       " [array([2.4312234], dtype=float32), 5.0],\n",
       " [array([2.3274024], dtype=float32), 4.0],\n",
       " [array([2.7491202], dtype=float32), 6.0],\n",
       " [array([3.6225276], dtype=float32), 4.0],\n",
       " [array([3.4827402], dtype=float32), 1.0],\n",
       " [array([4.133424], dtype=float32), 0.0],\n",
       " [array([4.868817], dtype=float32), 2.0],\n",
       " [array([5.348733], dtype=float32), 3.0],\n",
       " [array([4.749168], dtype=float32), 2.0],\n",
       " [array([6.541076], dtype=float32), 3.0],\n",
       " [array([5.9864225], dtype=float32), 5.0],\n",
       " [array([4.963478], dtype=float32), 6.0],\n",
       " [array([3.725166], dtype=float32), 5.0],\n",
       " [array([6.706148], dtype=float32), 8.0],\n",
       " [array([4.5144105], dtype=float32), 8.0],\n",
       " [array([4.074658], dtype=float32), 6.0],\n",
       " [array([5.078327], dtype=float32), 4.0],\n",
       " [array([4.7074294], dtype=float32), 9.0],\n",
       " [array([6.843502], dtype=float32), 6.0],\n",
       " [array([4.2213373], dtype=float32), 4.0],\n",
       " [array([2.740539], dtype=float32), 6.0],\n",
       " [array([3.8229678], dtype=float32), 6.0],\n",
       " [array([4.285024], dtype=float32), 9.0],\n",
       " [array([2.8080673], dtype=float32), 5.0],\n",
       " [array([1.6014425], dtype=float32), 2.0],\n",
       " [array([2.180208], dtype=float32), 4.0],\n",
       " [array([2.0802398], dtype=float32), 5.0],\n",
       " [array([3.7212038], dtype=float32), 2.0],\n",
       " [array([4.042562], dtype=float32), -2.0],\n",
       " [array([3.788052], dtype=float32), -2.0],\n",
       " [array([6.593377], dtype=float32), -2.0],\n",
       " [array([4.2410097], dtype=float32), -1.0],\n",
       " [array([5.800616], dtype=float32), 0.0],\n",
       " [array([5.298604], dtype=float32), 0.0],\n",
       " [array([4.5035057], dtype=float32), 4.0],\n",
       " [array([5.8935585], dtype=float32), 3.0],\n",
       " [array([6.1132255], dtype=float32), 4.0],\n",
       " [array([5.5476584], dtype=float32), 5.0],\n",
       " [array([5.5454245], dtype=float32), 4.0],\n",
       " [array([5.3058457], dtype=float32), 6.0],\n",
       " [array([4.1340623], dtype=float32), 7.0],\n",
       " [array([4.3552475], dtype=float32), 6.0],\n",
       " [array([3.5543246], dtype=float32), 6.0],\n",
       " [array([4.474212], dtype=float32), 6.0],\n",
       " [array([5.741869], dtype=float32), 4.0],\n",
       " [array([8.794962], dtype=float32), 4.0],\n",
       " [array([4.7355], dtype=float32), 3.0],\n",
       " [array([3.3467114], dtype=float32), 4.0],\n",
       " [array([4.1313915], dtype=float32), 6.0],\n",
       " [array([4.5792274], dtype=float32), 11.0],\n",
       " [array([3.851865], dtype=float32), 5.0],\n",
       " [array([3.4110837], dtype=float32), 2.0],\n",
       " [array([3.850384], dtype=float32), 4.0],\n",
       " [array([3.810667], dtype=float32), 5.0],\n",
       " [array([5.547888], dtype=float32), 3.0],\n",
       " [array([6.500608], dtype=float32), 2.0],\n",
       " [array([9.533968], dtype=float32), 3.0],\n",
       " [array([6.3251877], dtype=float32), 3.0],\n",
       " [array([4.359694], dtype=float32), 5.0],\n",
       " [array([3.246055], dtype=float32), 7.0],\n",
       " [array([4.4628935], dtype=float32), 13.0],\n",
       " [array([5.476606], dtype=float32), 8.0],\n",
       " [array([5.783555], dtype=float32), 4.0],\n",
       " [array([5.6992683], dtype=float32), 3.0],\n",
       " [array([6.7114725], dtype=float32), 5.0],\n",
       " [array([6.466318], dtype=float32), 6.0],\n",
       " [array([5.3680844], dtype=float32), 6.0],\n",
       " [array([5.9433017], dtype=float32), 6.0],\n",
       " [array([5.6697116], dtype=float32), 8.0],\n",
       " [array([5.3006496], dtype=float32), 8.0],\n",
       " [array([4.215343], dtype=float32), 6.0],\n",
       " [array([3.065282], dtype=float32), 7.0],\n",
       " [array([3.7055988], dtype=float32), 7.0],\n",
       " [array([2.8743665], dtype=float32), 6.0],\n",
       " [array([1.8690199], dtype=float32), 4.0],\n",
       " [array([3.1239672], dtype=float32), 2.0],\n",
       " [array([3.481311], dtype=float32), 3.0],\n",
       " [array([5.8749976], dtype=float32), 1.0],\n",
       " [array([4.38127], dtype=float32), -3.0],\n",
       " [array([6.892031], dtype=float32), -2.0],\n",
       " [array([4.6459055], dtype=float32), 0.0],\n",
       " [array([3.2217677], dtype=float32), 2.0],\n",
       " [array([3.062455], dtype=float32), 1.0],\n",
       " [array([2.352503], dtype=float32), 4.0],\n",
       " [array([2.3342354], dtype=float32), 4.0],\n",
       " [array([7.178498], dtype=float32), 2.0],\n",
       " [array([3.997565], dtype=float32), 2.0],\n",
       " [array([2.643835], dtype=float32), 1.0],\n",
       " [array([4.407237], dtype=float32), 1.0],\n",
       " [array([3.7183554], dtype=float32), 7.0],\n",
       " [array([3.6418247], dtype=float32), 4.0],\n",
       " [array([5.0079007], dtype=float32), 1.0],\n",
       " [array([5.119871], dtype=float32), 4.0],\n",
       " [array([5.21228], dtype=float32), 4.0],\n",
       " [array([5.756711], dtype=float32), 3.0],\n",
       " [array([5.4404645], dtype=float32), 5.0],\n",
       " [array([4.2421603], dtype=float32), 6.0],\n",
       " [array([2.5613005], dtype=float32), 6.0],\n",
       " [array([3.8319345], dtype=float32), 7.0],\n",
       " [array([4.314633], dtype=float32), 7.0],\n",
       " [array([2.7432275], dtype=float32), 5.0],\n",
       " [array([3.7475371], dtype=float32), 2.0],\n",
       " [array([3.2031574], dtype=float32), 4.0],\n",
       " [array([9.410964], dtype=float32), 5.0],\n",
       " [array([10.689305], dtype=float32), 2.0],\n",
       " [array([7.477882], dtype=float32), 3.0],\n",
       " [array([11.5346155], dtype=float32), 5.0],\n",
       " [array([10.7682495], dtype=float32), 9.0],\n",
       " [array([9.696699], dtype=float32), 12.0],\n",
       " [array([11.548241], dtype=float32), 10.0],\n",
       " [array([11.700606], dtype=float32), 12.0],\n",
       " [array([10.162431], dtype=float32), 12.0],\n",
       " [array([9.1132765], dtype=float32), 10.0],\n",
       " [array([8.901585], dtype=float32), 13.0],\n",
       " [array([9.000451], dtype=float32), 14.0],\n",
       " [array([10.545453], dtype=float32), 11.0],\n",
       " [array([8.607267], dtype=float32), 9.0],\n",
       " [array([8.976444], dtype=float32), 9.0],\n",
       " [array([6.617301], dtype=float32), 9.0],\n",
       " [array([6.3199544], dtype=float32), 11.0],\n",
       " [array([12.444441], dtype=float32), 8.0],\n",
       " [array([7.839841], dtype=float32), 8.0],\n",
       " [array([7.1243854], dtype=float32), 5.0],\n",
       " [array([7.8280516], dtype=float32), 4.0],\n",
       " [array([5.8488216], dtype=float32), 13.0],\n",
       " [array([10.207348], dtype=float32), 7.0],\n",
       " [array([9.514731], dtype=float32), 4.0],\n",
       " [array([9.612289], dtype=float32), 6.0],\n",
       " [array([10.705737], dtype=float32), 4.0],\n",
       " [array([7.102441], dtype=float32), 8.0],\n",
       " [array([6.316266], dtype=float32), 9.0],\n",
       " [array([7.7460384], dtype=float32), 10.0],\n",
       " [array([7.67252], dtype=float32), 13.0],\n",
       " [array([8.833331], dtype=float32), 8.0],\n",
       " [array([8.001161], dtype=float32), 6.0],\n",
       " [array([6.7871647], dtype=float32), 9.0],\n",
       " [array([9.212916], dtype=float32), 9.0],\n",
       " [array([8.210372], dtype=float32), 10.0],\n",
       " [array([8.692262], dtype=float32), 9.0],\n",
       " [array([6.633177], dtype=float32), 7.0],\n",
       " [array([5.506815], dtype=float32), 11.0],\n",
       " [array([5.5403337], dtype=float32), 10.0],\n",
       " [array([5.657258], dtype=float32), 10.0],\n",
       " [array([4.177467], dtype=float32), 7.0],\n",
       " [array([4.015413], dtype=float32), 5.0],\n",
       " [array([4.0390563], dtype=float32), 5.0],\n",
       " [array([4.2798934], dtype=float32), 5.0],\n",
       " [array([5.2494845], dtype=float32), 2.0],\n",
       " [array([5.6615505], dtype=float32), 0.0],\n",
       " [array([7.6480007], dtype=float32), 1.0],\n",
       " [array([6.128297], dtype=float32), 1.0],\n",
       " [array([2.8051248], dtype=float32), 1.0],\n",
       " [array([2.7204974], dtype=float32), 2.0],\n",
       " [array([1.9131536], dtype=float32), 3.0],\n",
       " [array([1.455559], dtype=float32), 3.0],\n",
       " [array([1.2567378], dtype=float32), 2.0],\n",
       " [array([2.5947437], dtype=float32), 3.0],\n",
       " [array([2.0109847], dtype=float32), 2.0],\n",
       " [array([-0.974252], dtype=float32), 1.0],\n",
       " [array([2.6066048], dtype=float32), 0.0],\n",
       " [array([2.8745444], dtype=float32), 3.0],\n",
       " [array([1.9043248], dtype=float32), 2.0],\n",
       " [array([1.6310523], dtype=float32), -2.0],\n",
       " [array([3.2601159], dtype=float32), 1.0],\n",
       " [array([2.1857996], dtype=float32), 3.0],\n",
       " [array([3.024126], dtype=float32), 1.0],\n",
       " [array([3.145485], dtype=float32), 0.0],\n",
       " [array([2.2305515], dtype=float32), 3.0],\n",
       " [array([2.434533], dtype=float32), 2.0],\n",
       " [array([2.9653823], dtype=float32), 2.0],\n",
       " [array([3.4892297], dtype=float32), 3.0],\n",
       " [array([2.9041338], dtype=float32), 2.0],\n",
       " [array([1.6479052], dtype=float32), 2.0],\n",
       " [array([2.296884], dtype=float32), 3.0],\n",
       " [array([2.785118], dtype=float32), 4.0],\n",
       " [array([3.580449], dtype=float32), 3.0],\n",
       " [array([3.5626366], dtype=float32), 1.0],\n",
       " [array([3.454516], dtype=float32), 2.0],\n",
       " [array([3.3088677], dtype=float32), 3.0],\n",
       " [array([3.853433], dtype=float32), 4.0],\n",
       " [array([2.0583646], dtype=float32), 4.0],\n",
       " [array([6.58977], dtype=float32), 4.0],\n",
       " [array([5.8456206], dtype=float32), 4.0],\n",
       " [array([4.4899507], dtype=float32), 5.0],\n",
       " [array([7.7318377], dtype=float32), 2.0],\n",
       " [array([8.436093], dtype=float32), 6.0],\n",
       " [array([9.522139], dtype=float32), 7.0],\n",
       " [array([8.229638], dtype=float32), 6.0],\n",
       " [array([8.244003], dtype=float32), 7.0],\n",
       " [array([7.87417], dtype=float32), 9.0],\n",
       " [array([9.123184], dtype=float32), 11.0],\n",
       " [array([7.3016753], dtype=float32), 9.0],\n",
       " [array([7.0420017], dtype=float32), 9.0],\n",
       " [array([7.9956455], dtype=float32), 9.0],\n",
       " [array([8.540711], dtype=float32), 11.0],\n",
       " [array([7.027637], dtype=float32), 8.0],\n",
       " [array([5.920487], dtype=float32), 7.0],\n",
       " [array([5.0322313], dtype=float32), 9.0],\n",
       " [array([4.307625], dtype=float32), 10.0],\n",
       " [array([6.9510994], dtype=float32), 7.0],\n",
       " [array([6.0195184], dtype=float32), 5.0],\n",
       " [array([6.808161], dtype=float32), 4.0],\n",
       " [array([5.623416], dtype=float32), 2.0],\n",
       " [array([7.5782833], dtype=float32), 6.0],\n",
       " [array([7.8089457], dtype=float32), 5.0],\n",
       " [array([5.571722], dtype=float32), 5.0],\n",
       " [array([8.384301], dtype=float32), 4.0],\n",
       " [array([8.55625], dtype=float32), 7.0],\n",
       " [array([7.413673], dtype=float32), 7.0],\n",
       " [array([5.3765907], dtype=float32), 4.0],\n",
       " [array([4.6269727], dtype=float32), 8.0],\n",
       " [array([5.5641346], dtype=float32), 11.0],\n",
       " [array([5.1259246], dtype=float32), 11.0],\n",
       " [array([3.820507], dtype=float32), 7.0],\n",
       " [array([4.490968], dtype=float32), 6.0],\n",
       " [array([6.0524793], dtype=float32), 8.0],\n",
       " [array([4.977322], dtype=float32), 7.0],\n",
       " [array([2.8762903], dtype=float32), 4.0],\n",
       " [array([3.4586077], dtype=float32), 5.0],\n",
       " [array([3.7948728], dtype=float32), 8.0],\n",
       " [array([2.8577526], dtype=float32), 6.0],\n",
       " [array([2.4730005], dtype=float32), 2.0],\n",
       " [array([0.13713871], dtype=float32), 3.0],\n",
       " [array([2.976689], dtype=float32), 4.0],\n",
       " [array([3.5784547], dtype=float32), 2.0],\n",
       " [array([4.211338], dtype=float32), 0.0],\n",
       " [array([5.543238], dtype=float32), -4.0],\n",
       " [array([3.078428], dtype=float32), -3.0],\n",
       " [array([5.1811304], dtype=float32), 0.0],\n",
       " [array([10.154217], dtype=float32), 0.0],\n",
       " [array([8.596169], dtype=float32), 1.0],\n",
       " [array([7.267028], dtype=float32), 0.0],\n",
       " [array([7.2781286], dtype=float32), 3.0],\n",
       " [array([5.457932], dtype=float32), 11.0],\n",
       " [array([5.253574], dtype=float32), 11.0],\n",
       " [array([6.049338], dtype=float32), 8.0],\n",
       " [array([6.0704637], dtype=float32), 8.0],\n",
       " [array([4.9788346], dtype=float32), 6.0],\n",
       " [array([5.7922974], dtype=float32), 5.0],\n",
       " [array([5.5293326], dtype=float32), 6.0],\n",
       " [array([5.0791287], dtype=float32), 6.0],\n",
       " [array([7.217946], dtype=float32), 4.0],\n",
       " [array([6.175758], dtype=float32), 5.0],\n",
       " [array([6.5252028], dtype=float32), 5.0],\n",
       " [array([3.8117533], dtype=float32), 4.0],\n",
       " [array([7.151656], dtype=float32), 7.0],\n",
       " [array([5.914279], dtype=float32), 6.0],\n",
       " [array([4.609179], dtype=float32), 6.0],\n",
       " [array([6.174642], dtype=float32), 2.0],\n",
       " [array([8.090353], dtype=float32), 7.0],\n",
       " [array([6.6963434], dtype=float32), 6.0],\n",
       " [array([6.295487], dtype=float32), 3.0],\n",
       " [array([5.6661563], dtype=float32), 5.0],\n",
       " [array([5.5894227], dtype=float32), 9.0],\n",
       " [array([5.7865424], dtype=float32), 7.0],\n",
       " [array([5.840167], dtype=float32), 6.0],\n",
       " [array([5.2315636], dtype=float32), 6.0],\n",
       " [array([7.122268], dtype=float32), 6.0],\n",
       " [array([5.0048823], dtype=float32), 6.0],\n",
       " [array([4.8445745], dtype=float32), 6.0],\n",
       " [array([5.2394595], dtype=float32), 5.0],\n",
       " [array([5.156751], dtype=float32), 8.0],\n",
       " [array([6.113465], dtype=float32), 5.0],\n",
       " [array([5.362725], dtype=float32), 4.0],\n",
       " [array([6.0655713], dtype=float32), 5.0],\n",
       " [array([4.5510635], dtype=float32), 5.0],\n",
       " [array([4.8019714], dtype=float32), 6.0],\n",
       " [array([3.9784303], dtype=float32), 5.0],\n",
       " [array([4.165474], dtype=float32), 6.0],\n",
       " [array([4.215971], dtype=float32), 4.0],\n",
       " [array([5.645755], dtype=float32), 4.0],\n",
       " [array([5.5378885], dtype=float32), 3.0],\n",
       " [array([4.591747], dtype=float32), 3.0],\n",
       " [array([5.042752], dtype=float32), 3.0],\n",
       " [array([4.996255], dtype=float32), 5.0],\n",
       " [array([6.5591474], dtype=float32), 5.0],\n",
       " [array([7.5237203], dtype=float32), 4.0],\n",
       " [array([6.8936195], dtype=float32), 4.0],\n",
       " [array([11.338818], dtype=float32), 4.0],\n",
       " [array([7.9145494], dtype=float32), 6.0],\n",
       " [array([7.9819407], dtype=float32), 7.0],\n",
       " [array([6.7340055], dtype=float32), 6.0],\n",
       " [array([7.9347887], dtype=float32), 13.0],\n",
       " [array([6.1889257], dtype=float32), 9.0],\n",
       " [array([6.695745], dtype=float32), 8.0],\n",
       " [array([8.309352], dtype=float32), 7.0],\n",
       " [array([8.170431], dtype=float32), 9.0],\n",
       " [array([5.970405], dtype=float32), 6.0],\n",
       " [array([4.711608], dtype=float32), 6.0],\n",
       " [array([4.457839], dtype=float32), 9.0],\n",
       " [array([6.6728954], dtype=float32), 9.0],\n",
       " [array([7.4856815], dtype=float32), 5.0],\n",
       " [array([7.0303187], dtype=float32), 3.0],\n",
       " [array([6.260562], dtype=float32), 3.0],\n",
       " [array([9.277622], dtype=float32), 6.0],\n",
       " [array([9.919057], dtype=float32), 7.0],\n",
       " [array([17.51984], dtype=float32), 6.0],\n",
       " [array([6.130312], dtype=float32), 5.0],\n",
       " [array([5.9945474], dtype=float32), 10.0],\n",
       " [array([5.8441], dtype=float32), 12.0],\n",
       " [array([6.474266], dtype=float32), 41.0],\n",
       " [array([6.494722], dtype=float32), 10.0],\n",
       " [array([6.7723923], dtype=float32), 8.0],\n",
       " [array([5.1853914], dtype=float32), 9.0],\n",
       " [array([6.934539], dtype=float32), 9.0],\n",
       " [array([6.143069], dtype=float32), 6.0],\n",
       " [array([6.5099893], dtype=float32), 6.0],\n",
       " [array([7.7758694], dtype=float32), 4.0],\n",
       " [array([7.5480433], dtype=float32), 6.0],\n",
       " [array([8.378979], dtype=float32), 5.0],\n",
       " [array([7.4859757], dtype=float32), 5.0],\n",
       " [array([6.845367], dtype=float32), 7.0],\n",
       " [array([8.08508], dtype=float32), 7.0],\n",
       " [array([6.582964], dtype=float32), 8.0],\n",
       " [array([4.6073103], dtype=float32), 7.0],\n",
       " [array([5.761908], dtype=float32), 6.0],\n",
       " [array([4.4830303], dtype=float32), 8.0],\n",
       " [array([4.561363], dtype=float32), 6.0],\n",
       " [array([6.2599998], dtype=float32), 2.0],\n",
       " [array([7.857689], dtype=float32), 4.0],\n",
       " [array([7.635298], dtype=float32), 2.0],\n",
       " [array([10.982646], dtype=float32), 0.0],\n",
       " [array([9.423726], dtype=float32), 3.0],\n",
       " [array([7.5476327], dtype=float32), 6.0],\n",
       " [array([7.366263], dtype=float32), 5.0],\n",
       " [array([8.074671], dtype=float32), 9.0],\n",
       " [array([6.2050114], dtype=float32), 10.0],\n",
       " [array([4.7237806], dtype=float32), 9.0],\n",
       " [array([5.7935586], dtype=float32), 10.0],\n",
       " [array([4.4821267], dtype=float32), 12.0],\n",
       " [array([2.8991165], dtype=float32), 9.0],\n",
       " [array([4.2041273], dtype=float32), 6.0],\n",
       " [array([2.779673], dtype=float32), 8.0],\n",
       " [array([2.7051213], dtype=float32), 6.0],\n",
       " [array([4.7261925], dtype=float32), 2.0],\n",
       " [array([3.6738508], dtype=float32), 4.0],\n",
       " [array([6.030304], dtype=float32), 2.0],\n",
       " [array([3.0480795], dtype=float32), 1.0],\n",
       " [array([2.4864616], dtype=float32), 4.0],\n",
       " [array([2.6383994], dtype=float32), 3.0],\n",
       " [array([2.4163501], dtype=float32), 5.0],\n",
       " [array([3.3757372], dtype=float32), 2.0],\n",
       " [array([4.129952], dtype=float32), -2.0],\n",
       " [array([5.003985], dtype=float32), 0.0],\n",
       " [array([6.7072163], dtype=float32), -1.0],\n",
       " [array([5.394328], dtype=float32), -2.0],\n",
       " [array([3.1717494], dtype=float32), 0.0],\n",
       " [array([2.0331056], dtype=float32), 2.0],\n",
       " [array([2.0695477], dtype=float32), 4.0],\n",
       " [array([3.2380397], dtype=float32), 4.0],\n",
       " [array([3.271987], dtype=float32), 2.0],\n",
       " [array([4.3082795], dtype=float32), -1.0],\n",
       " [array([4.70553], dtype=float32), 1.0],\n",
       " [array([3.8557305], dtype=float32), 3.0],\n",
       " [array([4.593404], dtype=float32), 2.0],\n",
       " [array([4.2247725], dtype=float32), 3.0],\n",
       " [array([4.8409657], dtype=float32), 5.0],\n",
       " [array([5.333514], dtype=float32), 4.0],\n",
       " [array([4.032556], dtype=float32), 5.0],\n",
       " [array([3.554465], dtype=float32), 5.0],\n",
       " [array([2.2332692], dtype=float32), 6.0],\n",
       " [array([2.106681], dtype=float32), 7.0],\n",
       " [array([3.207155], dtype=float32), 5.0],\n",
       " [array([3.1981668], dtype=float32), 4.0],\n",
       " [array([4.305066], dtype=float32), 2.0],\n",
       " [array([3.3304896], dtype=float32), 1.0],\n",
       " [array([2.682327], dtype=float32), 3.0],\n",
       " [array([2.088175], dtype=float32), 3.0],\n",
       " [array([3.5777795], dtype=float32), 4.0],\n",
       " [array([8.914611], dtype=float32), 3.0],\n",
       " [array([8.892457], dtype=float32), 2.0],\n",
       " [array([6.8298087], dtype=float32), 1.0],\n",
       " [array([7.1583395], dtype=float32), 6.0],\n",
       " [array([7.235121], dtype=float32), 9.0],\n",
       " [array([7.7202525], dtype=float32), 9.0],\n",
       " [array([9.838871], dtype=float32), 9.0],\n",
       " [array([7.8646436], dtype=float32), 6.0],\n",
       " [array([8.215903], dtype=float32), 6.0],\n",
       " [array([9.06221], dtype=float32), 7.0],\n",
       " [array([9.574785], dtype=float32), 10.0],\n",
       " [array([7.1809726], dtype=float32), 7.0],\n",
       " [array([9.969768], dtype=float32), 7.0],\n",
       " [array([9.236511], dtype=float32), 9.0],\n",
       " [array([9.708048], dtype=float32), 10.0],\n",
       " [array([10.797672], dtype=float32), 6.0],\n",
       " [array([8.012495], dtype=float32), 10.0],\n",
       " [array([7.121386], dtype=float32), 10.0],\n",
       " [array([8.218777], dtype=float32), 10.0],\n",
       " [array([9.418338], dtype=float32), 12.0],\n",
       " [array([8.485766], dtype=float32), 8.0],\n",
       " [array([8.053854], dtype=float32), 6.0],\n",
       " [array([9.030655], dtype=float32), 8.0],\n",
       " [array([10.517477], dtype=float32), 10.0],\n",
       " [array([9.538638], dtype=float32), 8.0],\n",
       " [array([9.158475], dtype=float32), 7.0],\n",
       " [array([7.579699], dtype=float32), 9.0],\n",
       " [array([8.420154], dtype=float32), 12.0],\n",
       " [array([10.274615], dtype=float32), 10.0],\n",
       " [array([9.111537], dtype=float32), 9.0],\n",
       " [array([7.4797544], dtype=float32), 7.0],\n",
       " [array([7.97508], dtype=float32), 8.0],\n",
       " [array([7.0280437], dtype=float32), 11.0],\n",
       " [array([6.853762], dtype=float32), 9.0],\n",
       " [array([6.9616375], dtype=float32), 6.0],\n",
       " [array([9.613878], dtype=float32), 7.0],\n",
       " [array([9.417799], dtype=float32), 6.0],\n",
       " [array([9.051041], dtype=float32), 5.0],\n",
       " [array([9.455948], dtype=float32), 5.0],\n",
       " [array([12.12382], dtype=float32), 9.0],\n",
       " [array([10.599108], dtype=float32), 9.0],\n",
       " [array([7.955484], dtype=float32), 8.0],\n",
       " [array([8.409699], dtype=float32), 9.0],\n",
       " [array([9.205771], dtype=float32), 14.0],\n",
       " [array([9.0248165], dtype=float32), 12.0],\n",
       " [array([9.980731], dtype=float32), 7.0],\n",
       " [array([7.728385], dtype=float32), 8.0],\n",
       " [array([7.442537], dtype=float32), 10.0],\n",
       " [array([8.160184], dtype=float32), 9.0],\n",
       " [array([10.4674635], dtype=float32), 10.0],\n",
       " [array([6.8442574], dtype=float32), 7.0],\n",
       " [array([6.8081937], dtype=float32), 6.0],\n",
       " [array([8.115041], dtype=float32), 7.0],\n",
       " [array([6.1272554], dtype=float32), 11.0],\n",
       " [array([7.891557], dtype=float32), 7.0],\n",
       " [array([6.7434435], dtype=float32), 7.0],\n",
       " [array([8.196567], dtype=float32), 10.0],\n",
       " [array([7.972173], dtype=float32), 7.0],\n",
       " [array([8.03867], dtype=float32), 9.0],\n",
       " [array([6.144429], dtype=float32), 8.0],\n",
       " [array([8.051018], dtype=float32), 10.0],\n",
       " [array([5.911528], dtype=float32), 10.0],\n",
       " [array([4.6988773], dtype=float32), 10.0],\n",
       " [array([3.700295], dtype=float32), 7.0],\n",
       " [array([3.4352453], dtype=float32), 10.0],\n",
       " [array([3.2711275], dtype=float32), 7.0],\n",
       " [array([5.590555], dtype=float32), 4.0],\n",
       " [array([6.03843], dtype=float32), 1.0],\n",
       " [array([6.0279555], dtype=float32), -1.0],\n",
       " [array([5.085774], dtype=float32), -2.0],\n",
       " [array([nan], dtype=float32), 2.0],\n",
       " [array([nan], dtype=float32), 3.0],\n",
       " [array([nan], dtype=float32), 2.0],\n",
       " [array([nan], dtype=float32), 2.0],\n",
       " [array([nan], dtype=float32), 3.0],\n",
       " [array([nan], dtype=float32), 0.0],\n",
       " [array([nan], dtype=float32), 1.0],\n",
       " [array([nan], dtype=float32), 2.0],\n",
       " [array([nan], dtype=float32), 1.0],\n",
       " [array([nan], dtype=float32), 1.0],\n",
       " [array([nan], dtype=float32), 1.0],\n",
       " [array([nan], dtype=float32), 1.0],\n",
       " [array([nan], dtype=float32), -2.0],\n",
       " [array([nan], dtype=float32), -4.0],\n",
       " [array([nan], dtype=float32), -4.0],\n",
       " [array([0.16371946], dtype=float32), -4.0],\n",
       " [array([0.16009885], dtype=float32), -2.0],\n",
       " [array([0.08468457], dtype=float32), -2.0],\n",
       " [array([0.06369875], dtype=float32), -1.0],\n",
       " [array([0.05753949], dtype=float32), 1.0],\n",
       " [array([0.05559074], dtype=float32), -1.0],\n",
       " [array([0.07572577], dtype=float32), 1.0],\n",
       " [array([0.14981692], dtype=float32), 2.0],\n",
       " [array([0.16040555], dtype=float32), 0.0],\n",
       " [array([0.12037849], dtype=float32), -1.0],\n",
       " [array([2.36787], dtype=float32), 0.0],\n",
       " [array([5.857523], dtype=float32), 3.0],\n",
       " [array([4.5215364], dtype=float32), 4.0],\n",
       " [array([0.57862425], dtype=float32), 3.0],\n",
       " [array([1.4584076], dtype=float32), 3.0],\n",
       " [array([1.4426975], dtype=float32), 1.0],\n",
       " [array([3.8468866], dtype=float32), 2.0],\n",
       " [array([3.379603], dtype=float32), 3.0],\n",
       " [array([3.0894344], dtype=float32), 5.0],\n",
       " [array([2.8679075], dtype=float32), 5.0],\n",
       " [array([2.1867409], dtype=float32), 2.0],\n",
       " [array([1.9049568], dtype=float32), 1.0],\n",
       " [array([2.584474], dtype=float32), 0.0],\n",
       " [array([1.8452189], dtype=float32), 0.0],\n",
       " [array([2.0938313], dtype=float32), 1.0],\n",
       " [array([1.9719446], dtype=float32), 3.0],\n",
       " [array([3.0278306], dtype=float32), 4.0],\n",
       " [array([3.2727466], dtype=float32), 3.0],\n",
       " [array([2.9776971], dtype=float32), 3.0],\n",
       " [array([2.5871308], dtype=float32), 4.0],\n",
       " [array([4.458144], dtype=float32), 3.0],\n",
       " [array([3.7774603], dtype=float32), -1.0],\n",
       " [array([3.091112], dtype=float32), 0.0],\n",
       " [array([2.959077], dtype=float32), 1.0],\n",
       " [array([2.7903173], dtype=float32), 3.0],\n",
       " [array([2.9274309], dtype=float32), 3.0],\n",
       " [array([3.0897257], dtype=float32), 3.0],\n",
       " [array([2.2394238], dtype=float32), 3.0],\n",
       " [array([2.6428688], dtype=float32), 4.0],\n",
       " [array([2.69531], dtype=float32), 3.0],\n",
       " [array([2.7225835], dtype=float32), 5.0],\n",
       " [array([5.709536], dtype=float32), 3.0],\n",
       " [array([5.087588], dtype=float32), 3.0],\n",
       " [array([3.4866948], dtype=float32), 3.0],\n",
       " [array([4.06526], dtype=float32), 6.0],\n",
       " [array([5.2617483], dtype=float32), 7.0],\n",
       " [array([4.579683], dtype=float32), 6.0],\n",
       " [array([6.532129], dtype=float32), 5.0],\n",
       " [array([5.904605], dtype=float32), 11.0],\n",
       " [array([5.4199834], dtype=float32), 10.0],\n",
       " [array([4.299891], dtype=float32), 7.0],\n",
       " [array([5.2724595], dtype=float32), 7.0],\n",
       " [array([4.6349783], dtype=float32), 6.0],\n",
       " [array([4.472287], dtype=float32), 3.0],\n",
       " [array([3.3016107], dtype=float32), 3.0],\n",
       " [array([5.0364776], dtype=float32), 1.0],\n",
       " [array([5.883639], dtype=float32), 0.0],\n",
       " [array([7.2702985], dtype=float32), 1.0],\n",
       " [array([5.847011], dtype=float32), 0.0],\n",
       " [array([4.2994146], dtype=float32), 3.0],\n",
       " [array([3.3016202], dtype=float32), 4.0],\n",
       " [array([3.7149117], dtype=float32), 2.0],\n",
       " [array([3.9193742], dtype=float32), 3.0],\n",
       " [array([5.0844793], dtype=float32), 6.0],\n",
       " [array([5.624296], dtype=float32), 5.0],\n",
       " [array([4.8610935], dtype=float32), 8.0],\n",
       " [array([4.2502065], dtype=float32), 8.0],\n",
       " [array([5.0968027], dtype=float32), 7.0],\n",
       " [array([4.343589], dtype=float32), 5.0],\n",
       " [array([5.837969], dtype=float32), 7.0],\n",
       " [array([9.538266], dtype=float32), 6.0],\n",
       " [array([10.494339], dtype=float32), 5.0],\n",
       " [array([7.2037807], dtype=float32), 3.0],\n",
       " [array([5.0069523], dtype=float32), 6.0],\n",
       " [array([3.9797754], dtype=float32), 8.0],\n",
       " [array([4.175955], dtype=float32), 10.0],\n",
       " [array([4.7065787], dtype=float32), 7.0],\n",
       " [array([5.5757136], dtype=float32), 4.0],\n",
       " [array([4.35762], dtype=float32), 2.0],\n",
       " [array([3.3631473], dtype=float32), 3.0],\n",
       " [array([3.326719], dtype=float32), 3.0],\n",
       " [array([5.8521504], dtype=float32), 4.0],\n",
       " [array([5.4124575], dtype=float32), 5.0],\n",
       " [array([3.9885442], dtype=float32), 4.0],\n",
       " [array([3.558805], dtype=float32), 3.0],\n",
       " [array([5.782636], dtype=float32), 5.0],\n",
       " [array([7.008176], dtype=float32), 4.0],\n",
       " [array([8.884278], dtype=float32), 6.0],\n",
       " [array([6.3347616], dtype=float32), 13.0],\n",
       " [array([5.0004716], dtype=float32), 16.0],\n",
       " [array([6.021481], dtype=float32), 10.0],\n",
       " [array([9.612538], dtype=float32), 6.0],\n",
       " [array([9.452065], dtype=float32), 5.0],\n",
       " [array([9.635033], dtype=float32), 5.0],\n",
       " [array([12.356973], dtype=float32), 5.0],\n",
       " [array([8.160371], dtype=float32), 6.0],\n",
       " [array([7.72064], dtype=float32), 4.0],\n",
       " [array([5.9015994], dtype=float32), 2.0],\n",
       " [array([3.3257744], dtype=float32), 2.0],\n",
       " [array([3.7331886], dtype=float32), 6.0],\n",
       " [array([3.536132], dtype=float32), 5.0],\n",
       " [array([2.8427427], dtype=float32), 2.0],\n",
       " [array([6.6044292], dtype=float32), 1.0],\n",
       " [array([5.2830763], dtype=float32), 5.0],\n",
       " [array([5.7738724], dtype=float32), 7.0],\n",
       " [array([8.443672], dtype=float32), 9.0],\n",
       " [array([3.6472976], dtype=float32), 6.0],\n",
       " [array([3.1022093], dtype=float32), 4.0],\n",
       " [array([2.1078258], dtype=float32), 6.0],\n",
       " [array([4.485901], dtype=float32), 6.0],\n",
       " [array([2.641978], dtype=float32), 6.0],\n",
       " [array([2.4032757], dtype=float32), 6.0],\n",
       " [array([2.005316], dtype=float32), 9.0],\n",
       " [array([2.6841598], dtype=float32), 6.0],\n",
       " [array([2.0094836], dtype=float32), 5.0],\n",
       " [array([2.3904054], dtype=float32), 4.0],\n",
       " [array([2.507312], dtype=float32), -2.0],\n",
       " [array([2.8802183], dtype=float32), -1.0],\n",
       " [array([3.8438365], dtype=float32), 1.0],\n",
       " [array([4.3724036], dtype=float32), -1.0],\n",
       " [array([4.9503727], dtype=float32), 0.0],\n",
       " [array([3.9995313], dtype=float32), 1.0],\n",
       " [array([4.334693], dtype=float32), 1.0],\n",
       " [array([3.7001722], dtype=float32), 5.0],\n",
       " [array([3.445541], dtype=float32), 2.0],\n",
       " [array([3.0494215], dtype=float32), 1.0],\n",
       " [array([7.62147], dtype=float32), 1.0],\n",
       " [array([2.5327544], dtype=float32), 5.0],\n",
       " [array([4.7096076], dtype=float32), 4.0],\n",
       " [array([3.543634], dtype=float32), 2.0],\n",
       " [array([4.6485705], dtype=float32), 2.0],\n",
       " [array([4.878906], dtype=float32), 4.0],\n",
       " [array([-5.129892], dtype=float32), 2.0],\n",
       " ...]"
      ]
     },
     "execution_count": 88,
     "metadata": {},
     "output_type": "execute_result"
    }
   ],
   "source": [
    "allpoints"
   ]
  },
  {
   "cell_type": "code",
   "execution_count": 83,
   "metadata": {},
   "outputs": [
    {
     "data": {
      "text/plain": [
       "True"
      ]
     },
     "execution_count": 83,
     "metadata": {},
     "output_type": "execute_result"
    }
   ],
   "source": [
    "pandas.isna(numpy.nan)"
   ]
  },
  {
   "cell_type": "code",
   "execution_count": 84,
   "metadata": {},
   "outputs": [
    {
     "data": {
      "text/plain": [
       "False"
      ]
     },
     "execution_count": 84,
     "metadata": {},
     "output_type": "execute_result"
    }
   ],
   "source": [
    "pandas.isna(3)"
   ]
  },
  {
   "cell_type": "code",
   "execution_count": null,
   "metadata": {},
   "outputs": [],
   "source": []
  }
 ],
 "metadata": {
  "kernelspec": {
   "display_name": "Python 3",
   "language": "python",
   "name": "python3"
  },
  "language_info": {
   "codemirror_mode": {
    "name": "ipython",
    "version": 3
   },
   "file_extension": ".py",
   "mimetype": "text/x-python",
   "name": "python",
   "nbconvert_exporter": "python",
   "pygments_lexer": "ipython3",
   "version": "3.7.4"
  }
 },
 "nbformat": 4,
 "nbformat_minor": 4
}
